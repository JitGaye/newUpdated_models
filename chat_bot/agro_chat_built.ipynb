{
 "cells": [
  {
   "cell_type": "code",
   "execution_count": 7,
   "id": "219909ff-d480-4a66-8083-4c7e55d906b5",
   "metadata": {},
   "outputs": [],
   "source": [
    "import numpy as np\n",
    "import pandas as pd\n",
    "import random \n",
    "import pickle\n",
    "import json\n"
   ]
  },
  {
   "cell_type": "code",
   "execution_count": 2,
   "id": "6d2faeba-654e-4ebd-ac8e-21bbcd84533f",
   "metadata": {},
   "outputs": [],
   "source": [
    "import nltk"
   ]
  },
  {
   "cell_type": "code",
   "execution_count": 3,
   "id": "4fb55d63-029c-4d4b-ab2b-c332c19a7cc0",
   "metadata": {},
   "outputs": [],
   "source": [
    "from nltk.stem import WordNetLemmatizer\n",
    "from tensorflow.keras.models import Sequential\n",
    "from tensorflow.keras.layers import Dense, Activation, Dropout"
   ]
  },
  {
   "cell_type": "code",
   "execution_count": 4,
   "id": "7a444d02-f84f-45af-ab4b-be6eb8f837e0",
   "metadata": {},
   "outputs": [],
   "source": [
    "from tensorflow.keras.optimizers import SGD"
   ]
  },
  {
   "cell_type": "code",
   "execution_count": 15,
   "id": "3ff1043e-37ee-47a5-ae67-6b43beb6c9a3",
   "metadata": {},
   "outputs": [],
   "source": [
    "lemmatizer = WordNetLemmatizer()"
   ]
  },
  {
   "cell_type": "code",
   "execution_count": 8,
   "id": "fd86856a-7228-44e3-a3ab-374e15b81fae",
   "metadata": {},
   "outputs": [],
   "source": [
    "intents = json.loads(open('intents.json').read())"
   ]
  },
  {
   "cell_type": "code",
   "execution_count": 30,
   "id": "6b27178f-d1e5-4310-b8d9-1ab065432b35",
   "metadata": {},
   "outputs": [],
   "source": [
    "words=[]\n",
    "classes=[]\n",
    "documents=[]\n",
    "ignore_letters = ['?', '!', '.', ',']"
   ]
  },
  {
   "cell_type": "code",
   "execution_count": 31,
   "id": "73b534a8-ce82-4b7e-9d91-8d2a3f7b789d",
   "metadata": {},
   "outputs": [],
   "source": [
    "for intent in intents['intents'] :\n",
    "    for pattern in intent['patterns']:\n",
    "        word_list = nltk.word_tokenize(pattern)\n",
    "        words.extend(word_list)\n",
    "        documents.append((word_list, intent['tag']))\n",
    "        if intent['tag'] not in classes:\n",
    "            classes.append(intent['tag'])\n",
    "        "
   ]
  },
  {
   "cell_type": "code",
   "execution_count": 12,
   "id": "d4869c63-a684-4802-97f6-080374ac483d",
   "metadata": {},
   "outputs": [
    {
     "name": "stderr",
     "output_type": "stream",
     "text": [
      "[nltk_data] Downloading package punkt to\n",
      "[nltk_data]     C:\\Users\\dheer\\AppData\\Roaming\\nltk_data...\n",
      "[nltk_data]   Unzipping tokenizers\\punkt.zip.\n"
     ]
    },
    {
     "data": {
      "text/plain": [
       "True"
      ]
     },
     "execution_count": 12,
     "metadata": {},
     "output_type": "execute_result"
    }
   ],
   "source": [
    "nltk.download('punkt')"
   ]
  },
  {
   "cell_type": "code",
   "execution_count": 32,
   "id": "db171853-6951-4746-8054-07729df8b347",
   "metadata": {},
   "outputs": [
    {
     "data": {
      "text/plain": [
       "['hi',\n",
       " 'hello',\n",
       " 'how',\n",
       " 'are',\n",
       " 'you',\n",
       " '?',\n",
       " 'howdy',\n",
       " 'what',\n",
       " 'is',\n",
       " 'your',\n",
       " 'name',\n",
       " 'what',\n",
       " 'can',\n",
       " 'i',\n",
       " 'call',\n",
       " 'you',\n",
       " 'can',\n",
       " 'you',\n",
       " 'tell',\n",
       " 'me',\n",
       " 'your',\n",
       " 'name',\n",
       " 'may',\n",
       " 'i',\n",
       " 'know',\n",
       " 'farmer',\n",
       " 'plans',\n",
       " 'farmer',\n",
       " 'plans',\n",
       " 'planning',\n",
       " 'financing',\n",
       " 'plans',\n",
       " 'I',\n",
       " 'am',\n",
       " 'going',\n",
       " 'to',\n",
       " 'die',\n",
       " 'I',\n",
       " 'need',\n",
       " 'some',\n",
       " 'emotional',\n",
       " 'support',\n",
       " 'please',\n",
       " 'help',\n",
       " 'me',\n",
       " 'how',\n",
       " 'can',\n",
       " 'i',\n",
       " 'navigate',\n",
       " 'in',\n",
       " 'you',\n",
       " '?',\n",
       " 'how',\n",
       " 'can',\n",
       " 'i',\n",
       " 'get',\n",
       " 'full',\n",
       " 'use',\n",
       " 'from',\n",
       " 'you',\n",
       " '?',\n",
       " 'what',\n",
       " 'can',\n",
       " 'you',\n",
       " 'do',\n",
       " '?',\n",
       " 'thank',\n",
       " 'you',\n",
       " 'see',\n",
       " 'you',\n",
       " '!',\n",
       " '!',\n",
       " 'bye',\n",
       " 'good',\n",
       " 'bye']"
      ]
     },
     "execution_count": 32,
     "metadata": {},
     "output_type": "execute_result"
    }
   ],
   "source": [
    "words"
   ]
  },
  {
   "cell_type": "code",
   "execution_count": 26,
   "id": "c2be0d8a-a8eb-47d7-a878-8f14fd6ea807",
   "metadata": {},
   "outputs": [
    {
     "data": {
      "text/plain": [
       "[(['hi'], 'greetings'),\n",
       " (['hello'], 'greetings'),\n",
       " (['how', 'are', 'you', '?'], 'greetings'),\n",
       " (['howdy'], 'greetings'),\n",
       " (['what', 'is', 'your', 'name'], 'name'),\n",
       " (['what', 'can', 'i', 'call', 'you'], 'name'),\n",
       " (['can', 'you', 'tell', 'me', 'your', 'name'], 'name'),\n",
       " (['may', 'i', 'know', 'farmer', 'plans'], 'plans'),\n",
       " (['farmer', 'plans'], 'plans'),\n",
       " (['planning'], 'plans'),\n",
       " (['financing', 'plans'], 'plans'),\n",
       " (['I', 'am', 'going', 'to', 'die'], 'emotional support'),\n",
       " (['I', 'need', 'some', 'emotional', 'support'], 'emotional support'),\n",
       " (['please', 'help', 'me'], 'emotional support'),\n",
       " (['how', 'can', 'i', 'navigate', 'in', 'you', '?'], 'use'),\n",
       " (['how', 'can', 'i', 'get', 'full', 'use', 'from', 'you', '?'], 'use'),\n",
       " (['what', 'can', 'you', 'do', '?'], 'use'),\n",
       " (['thank', 'you', 'see', 'you', '!', '!'], 'end'),\n",
       " (['bye'], 'end'),\n",
       " (['good', 'bye'], 'end'),\n",
       " (['hi'], 'greetings'),\n",
       " (['hello'], 'greetings'),\n",
       " (['how', 'are', 'you', '?'], 'greetings'),\n",
       " (['howdy'], 'greetings'),\n",
       " (['what', 'is', 'your', 'name'], 'name'),\n",
       " (['what', 'can', 'i', 'call', 'you'], 'name'),\n",
       " (['can', 'you', 'tell', 'me', 'your', 'name'], 'name'),\n",
       " (['may', 'i', 'know', 'farmer', 'plans'], 'plans'),\n",
       " (['farmer', 'plans'], 'plans'),\n",
       " (['planning'], 'plans'),\n",
       " (['financing', 'plans'], 'plans'),\n",
       " (['I', 'am', 'going', 'to', 'die'], 'emotional support'),\n",
       " (['I', 'need', 'some', 'emotional', 'support'], 'emotional support'),\n",
       " (['please', 'help', 'me'], 'emotional support'),\n",
       " (['how', 'can', 'i', 'navigate', 'in', 'you', '?'], 'use'),\n",
       " (['how', 'can', 'i', 'get', 'full', 'use', 'from', 'you', '?'], 'use'),\n",
       " (['what', 'can', 'you', 'do', '?'], 'use'),\n",
       " (['thank', 'you', 'see', 'you', '!', '!'], 'end'),\n",
       " (['bye'], 'end'),\n",
       " (['good', 'bye'], 'end'),\n",
       " (['hi'], 'greetings'),\n",
       " (['hello'], 'greetings'),\n",
       " (['how', 'are', 'you', '?'], 'greetings'),\n",
       " (['howdy'], 'greetings'),\n",
       " (['what', 'is', 'your', 'name'], 'name'),\n",
       " (['what', 'can', 'i', 'call', 'you'], 'name'),\n",
       " (['can', 'you', 'tell', 'me', 'your', 'name'], 'name'),\n",
       " (['may', 'i', 'know', 'farmer', 'plans'], 'plans'),\n",
       " (['farmer', 'plans'], 'plans'),\n",
       " (['planning'], 'plans'),\n",
       " (['financing', 'plans'], 'plans'),\n",
       " (['I', 'am', 'going', 'to', 'die'], 'emotional support'),\n",
       " (['I', 'need', 'some', 'emotional', 'support'], 'emotional support'),\n",
       " (['please', 'help', 'me'], 'emotional support'),\n",
       " (['how', 'can', 'i', 'navigate', 'in', 'you', '?'], 'use'),\n",
       " (['how', 'can', 'i', 'get', 'full', 'use', 'from', 'you', '?'], 'use'),\n",
       " (['what', 'can', 'you', 'do', '?'], 'use'),\n",
       " (['thank', 'you', 'see', 'you', '!', '!'], 'end'),\n",
       " (['bye'], 'end'),\n",
       " (['good', 'bye'], 'end')]"
      ]
     },
     "execution_count": 26,
     "metadata": {},
     "output_type": "execute_result"
    }
   ],
   "source": [
    "documents"
   ]
  },
  {
   "cell_type": "code",
   "execution_count": 33,
   "id": "9e7c6d7c-55e9-406d-aa25-d517ac31f1c2",
   "metadata": {},
   "outputs": [],
   "source": [
    "words = [lemmatizer.lemmatize(word) for word in words if word not in ignore_letters]"
   ]
  },
  {
   "cell_type": "code",
   "execution_count": 19,
   "id": "c7639baf-d7c0-49a8-aff1-d67e6d05f253",
   "metadata": {},
   "outputs": [
    {
     "name": "stderr",
     "output_type": "stream",
     "text": [
      "[nltk_data] Downloading package wordnet to\n",
      "[nltk_data]     C:\\Users\\dheer\\AppData\\Roaming\\nltk_data...\n"
     ]
    },
    {
     "data": {
      "text/plain": [
       "True"
      ]
     },
     "execution_count": 19,
     "metadata": {},
     "output_type": "execute_result"
    }
   ],
   "source": [
    "nltk.download('wordnet')"
   ]
  },
  {
   "cell_type": "code",
   "execution_count": 21,
   "id": "67d48644-77b9-4737-8451-891109bc3302",
   "metadata": {},
   "outputs": [
    {
     "name": "stderr",
     "output_type": "stream",
     "text": [
      "[nltk_data] Downloading package omw-1.4 to\n",
      "[nltk_data]     C:\\Users\\dheer\\AppData\\Roaming\\nltk_data...\n"
     ]
    },
    {
     "data": {
      "text/plain": [
       "True"
      ]
     },
     "execution_count": 21,
     "metadata": {},
     "output_type": "execute_result"
    }
   ],
   "source": [
    "nltk.download('omw-1.4')"
   ]
  },
  {
   "cell_type": "code",
   "execution_count": 34,
   "id": "2d8c156a-d221-42af-b1a4-5ea6c423e71a",
   "metadata": {},
   "outputs": [],
   "source": [
    "words = sorted(set(words))"
   ]
  },
  {
   "cell_type": "code",
   "execution_count": 35,
   "id": "1d652c2d-231d-435e-bc27-b6fc17bf6c04",
   "metadata": {},
   "outputs": [
    {
     "data": {
      "text/plain": [
       "['I',\n",
       " 'am',\n",
       " 'are',\n",
       " 'bye',\n",
       " 'call',\n",
       " 'can',\n",
       " 'die',\n",
       " 'do',\n",
       " 'emotional',\n",
       " 'farmer',\n",
       " 'financing',\n",
       " 'from',\n",
       " 'full',\n",
       " 'get',\n",
       " 'going',\n",
       " 'good',\n",
       " 'hello',\n",
       " 'help',\n",
       " 'hi',\n",
       " 'how',\n",
       " 'howdy',\n",
       " 'i',\n",
       " 'in',\n",
       " 'is',\n",
       " 'know',\n",
       " 'may',\n",
       " 'me',\n",
       " 'name',\n",
       " 'navigate',\n",
       " 'need',\n",
       " 'plan',\n",
       " 'planning',\n",
       " 'please',\n",
       " 'see',\n",
       " 'some',\n",
       " 'support',\n",
       " 'tell',\n",
       " 'thank',\n",
       " 'to',\n",
       " 'use',\n",
       " 'what',\n",
       " 'you',\n",
       " 'your']"
      ]
     },
     "execution_count": 35,
     "metadata": {},
     "output_type": "execute_result"
    }
   ],
   "source": [
    "words"
   ]
  },
  {
   "cell_type": "code",
   "execution_count": 36,
   "id": "4cc3af43-6ea8-45da-889d-f99da7e8f849",
   "metadata": {},
   "outputs": [],
   "source": [
    "classes = sorted(set(classes))"
   ]
  },
  {
   "cell_type": "code",
   "execution_count": 37,
   "id": "552d07fd-bc3c-49ea-bfaa-532cd01b82aa",
   "metadata": {},
   "outputs": [],
   "source": [
    "pickle.dump(words, open('words.pkl', 'wb'))\n",
    "pickle.dump(classes, open('classes.pkl', 'wb'))"
   ]
  },
  {
   "cell_type": "code",
   "execution_count": 38,
   "id": "900dbaf8-6808-436b-b953-3929d6ce7bdd",
   "metadata": {},
   "outputs": [],
   "source": [
    "training =[]\n",
    "output_empty =[0]*  len(classes)"
   ]
  },
  {
   "cell_type": "code",
   "execution_count": 39,
   "id": "f1acd6ef-4c42-4c23-b4eb-5402ca4127bc",
   "metadata": {},
   "outputs": [],
   "source": [
    "for document in documents:\n",
    "    bag =[]\n",
    "    word_patterns = document[0]\n",
    "    word_patterns = [lemmatizer.lemmatize(word.lower()) for word in word_patterns]\n",
    "    for word in words:\n",
    "        bag.append(1) if word in word_patterns else bag.append(0)\n",
    "    output_row = list(output_empty)\n",
    "    output_row[classes.index(document[1])]=1\n",
    "    training.append([bag, output_row])"
   ]
  },
  {
   "cell_type": "code",
   "execution_count": 40,
   "id": "10cbb31e-b0b0-4fa8-9516-f9c6975c634b",
   "metadata": {},
   "outputs": [
    {
     "name": "stderr",
     "output_type": "stream",
     "text": [
      "C:\\Users\\dheer\\AppData\\Local\\Temp\\ipykernel_8720\\4111924452.py:2: VisibleDeprecationWarning: Creating an ndarray from ragged nested sequences (which is a list-or-tuple of lists-or-tuples-or ndarrays with different lengths or shapes) is deprecated. If you meant to do this, you must specify 'dtype=object' when creating the ndarray.\n",
      "  training=np.array(training)\n"
     ]
    }
   ],
   "source": [
    "random.shuffle(training)\n",
    "training=np.array(training)"
   ]
  },
  {
   "cell_type": "code",
   "execution_count": 41,
   "id": "4b16db1c-770d-4948-9424-0531c53dc40a",
   "metadata": {},
   "outputs": [],
   "source": [
    "train_x = list(training[:, 0])\n",
    "train_y = list(training[:,1])"
   ]
  },
  {
   "cell_type": "code",
   "execution_count": 43,
   "id": "c04215c4-06bc-4ad7-baa5-3c674d7fe6ca",
   "metadata": {},
   "outputs": [],
   "source": [
    "model = Sequential()\n",
    "model.add(Dense(128, input_shape=(len(train_x[0]),) ,activation= 'relu'))"
   ]
  },
  {
   "cell_type": "code",
   "execution_count": 44,
   "id": "1fe944a4-b4c6-4a40-8d8c-152119ecebd4",
   "metadata": {},
   "outputs": [],
   "source": [
    "model.add(Dropout(0.5))\n",
    "model.add(Dense(64, activation='relu'))\n",
    "model.add(Dropout(0.5))\n",
    "model.add(Dense(len(train_y[0]), activation='relu'))"
   ]
  },
  {
   "cell_type": "code",
   "execution_count": 46,
   "id": "cea844e9-11be-4f85-a8a6-87f56fd20568",
   "metadata": {},
   "outputs": [],
   "source": [
    "sgd = SGD(lr=0.01, decay=1e-6, momentum=0.9)"
   ]
  },
  {
   "cell_type": "code",
   "execution_count": 47,
   "id": "d33f1498-59a5-4472-8c95-6ffa5983eeaf",
   "metadata": {},
   "outputs": [],
   "source": [
    "model.compile(loss='categorical_crossentropy', optimizer=sgd, metrics=['accuracy'])\n"
   ]
  },
  {
   "cell_type": "code",
   "execution_count": 57,
   "id": "038fc5e1-afbf-4c78-bf97-c1d7a10cc23e",
   "metadata": {},
   "outputs": [
    {
     "name": "stdout",
     "output_type": "stream",
     "text": [
      "Epoch 1/200\n",
      "4/4 [==============================] - 1s 3ms/step - loss: 1.9046 - accuracy: 0.1500\n",
      "Epoch 2/200\n",
      "4/4 [==============================] - 0s 5ms/step - loss: 2.0601 - accuracy: 0.1000\n",
      "Epoch 3/200\n",
      "4/4 [==============================] - 0s 3ms/step - loss: 1.8990 - accuracy: 0.1000\n",
      "Epoch 4/200\n",
      "4/4 [==============================] - 0s 3ms/step - loss: 2.0423 - accuracy: 0.0500\n",
      "Epoch 5/200\n",
      "4/4 [==============================] - 0s 3ms/step - loss: 1.9309 - accuracy: 0.2500\n",
      "Epoch 6/200\n",
      "4/4 [==============================] - 0s 5ms/step - loss: 2.0235 - accuracy: 0.1500\n",
      "Epoch 7/200\n",
      "4/4 [==============================] - 0s 7ms/step - loss: 1.9867 - accuracy: 0.1000\n",
      "Epoch 8/200\n",
      "4/4 [==============================] - 0s 4ms/step - loss: 1.9312 - accuracy: 0.2000\n",
      "Epoch 9/200\n",
      "4/4 [==============================] - 0s 5ms/step - loss: 1.9396 - accuracy: 0.0000e+00\n",
      "Epoch 10/200\n",
      "4/4 [==============================] - 0s 5ms/step - loss: 1.9442 - accuracy: 0.0500\n",
      "Epoch 11/200\n",
      "4/4 [==============================] - 0s 5ms/step - loss: 1.9510 - accuracy: 0.1500\n",
      "Epoch 12/200\n",
      "4/4 [==============================] - 0s 4ms/step - loss: 2.5910 - accuracy: 0.1000\n",
      "Epoch 13/200\n",
      "4/4 [==============================] - 0s 3ms/step - loss: 1.8513 - accuracy: 0.2500\n",
      "Epoch 14/200\n",
      "4/4 [==============================] - 0s 3ms/step - loss: 1.9940 - accuracy: 0.1500\n",
      "Epoch 15/200\n",
      "4/4 [==============================] - 0s 4ms/step - loss: 1.8186 - accuracy: 0.1000\n",
      "Epoch 16/200\n",
      "4/4 [==============================] - 0s 4ms/step - loss: 1.7905 - accuracy: 0.2000\n",
      "Epoch 17/200\n",
      "4/4 [==============================] - 0s 3ms/step - loss: 1.9437 - accuracy: 0.1500\n",
      "Epoch 18/200\n",
      "4/4 [==============================] - 0s 3ms/step - loss: 1.9584 - accuracy: 0.2500\n",
      "Epoch 19/200\n",
      "4/4 [==============================] - 0s 3ms/step - loss: 1.8912 - accuracy: 0.2500\n",
      "Epoch 20/200\n",
      "4/4 [==============================] - 0s 3ms/step - loss: 2.0751 - accuracy: 0.1000\n",
      "Epoch 21/200\n",
      "4/4 [==============================] - 0s 3ms/step - loss: 2.0319 - accuracy: 0.1500\n",
      "Epoch 22/200\n",
      "4/4 [==============================] - 0s 6ms/step - loss: 1.7368 - accuracy: 0.2500\n",
      "Epoch 23/200\n",
      "4/4 [==============================] - 0s 6ms/step - loss: 1.9212 - accuracy: 0.1500\n",
      "Epoch 24/200\n",
      "4/4 [==============================] - 0s 3ms/step - loss: 1.9248 - accuracy: 0.1500\n",
      "Epoch 25/200\n",
      "4/4 [==============================] - 0s 8ms/step - loss: 1.9837 - accuracy: 0.1000\n",
      "Epoch 26/200\n",
      "4/4 [==============================] - 0s 5ms/step - loss: 1.9218 - accuracy: 0.2000\n",
      "Epoch 27/200\n",
      "4/4 [==============================] - 0s 5ms/step - loss: 2.6320 - accuracy: 0.2000\n",
      "Epoch 28/200\n",
      "4/4 [==============================] - 0s 5ms/step - loss: 1.8344 - accuracy: 0.3000\n",
      "Epoch 29/200\n",
      "4/4 [==============================] - 0s 5ms/step - loss: 1.9534 - accuracy: 0.2000\n",
      "Epoch 30/200\n",
      "4/4 [==============================] - 0s 5ms/step - loss: 1.8358 - accuracy: 0.1500\n",
      "Epoch 31/200\n",
      "4/4 [==============================] - 0s 3ms/step - loss: 1.9828 - accuracy: 0.1500\n",
      "Epoch 32/200\n",
      "4/4 [==============================] - 0s 4ms/step - loss: 1.8077 - accuracy: 0.3000\n",
      "Epoch 33/200\n",
      "4/4 [==============================] - 0s 3ms/step - loss: 1.9629 - accuracy: 0.3000\n",
      "Epoch 34/200\n",
      "4/4 [==============================] - 0s 3ms/step - loss: 1.8450 - accuracy: 0.2000\n",
      "Epoch 35/200\n",
      "4/4 [==============================] - 0s 3ms/step - loss: 1.8220 - accuracy: 0.1000\n",
      "Epoch 36/200\n",
      "4/4 [==============================] - 0s 4ms/step - loss: 1.9425 - accuracy: 0.3000\n",
      "Epoch 37/200\n",
      "4/4 [==============================] - 0s 3ms/step - loss: 2.0496 - accuracy: 0.0000e+00\n",
      "Epoch 38/200\n",
      "4/4 [==============================] - 0s 5ms/step - loss: 1.8909 - accuracy: 0.2500\n",
      "Epoch 39/200\n",
      "4/4 [==============================] - 0s 3ms/step - loss: 1.8369 - accuracy: 0.2500\n",
      "Epoch 40/200\n",
      "4/4 [==============================] - 0s 3ms/step - loss: 1.9316 - accuracy: 0.0000e+00\n",
      "Epoch 41/200\n",
      "4/4 [==============================] - 0s 5ms/step - loss: 1.9244 - accuracy: 0.1500\n",
      "Epoch 42/200\n",
      "4/4 [==============================] - 0s 3ms/step - loss: 1.9067 - accuracy: 0.1000\n",
      "Epoch 43/200\n",
      "4/4 [==============================] - 0s 5ms/step - loss: 2.0326 - accuracy: 0.1500\n",
      "Epoch 44/200\n",
      "4/4 [==============================] - 0s 4ms/step - loss: 1.8266 - accuracy: 0.2500\n",
      "Epoch 45/200\n",
      "4/4 [==============================] - 0s 5ms/step - loss: 1.9469 - accuracy: 0.2500\n",
      "Epoch 46/200\n",
      "4/4 [==============================] - 0s 6ms/step - loss: 1.9006 - accuracy: 0.2000\n",
      "Epoch 47/200\n",
      "4/4 [==============================] - 0s 6ms/step - loss: 1.9208 - accuracy: 0.1000\n",
      "Epoch 48/200\n",
      "4/4 [==============================] - 0s 5ms/step - loss: 1.8385 - accuracy: 0.2500\n",
      "Epoch 49/200\n",
      "4/4 [==============================] - 0s 6ms/step - loss: 1.9714 - accuracy: 0.0000e+00\n",
      "Epoch 50/200\n",
      "4/4 [==============================] - 0s 3ms/step - loss: 1.9926 - accuracy: 0.1000\n",
      "Epoch 51/200\n",
      "4/4 [==============================] - 0s 3ms/step - loss: 1.9936 - accuracy: 0.2500\n",
      "Epoch 52/200\n",
      "4/4 [==============================] - 0s 3ms/step - loss: 1.8701 - accuracy: 0.2000\n",
      "Epoch 53/200\n",
      "4/4 [==============================] - 0s 6ms/step - loss: 1.8793 - accuracy: 0.2000\n",
      "Epoch 54/200\n",
      "4/4 [==============================] - 0s 3ms/step - loss: 1.9279 - accuracy: 0.1500\n",
      "Epoch 55/200\n",
      "4/4 [==============================] - 0s 3ms/step - loss: 2.0398 - accuracy: 0.1500\n",
      "Epoch 56/200\n",
      "4/4 [==============================] - 0s 3ms/step - loss: 1.9378 - accuracy: 0.2000\n",
      "Epoch 57/200\n",
      "4/4 [==============================] - 0s 3ms/step - loss: 1.7818 - accuracy: 0.1500\n",
      "Epoch 58/200\n",
      "4/4 [==============================] - 0s 5ms/step - loss: 1.9562 - accuracy: 0.1500\n",
      "Epoch 59/200\n",
      "4/4 [==============================] - 0s 5ms/step - loss: 1.8917 - accuracy: 0.2000\n",
      "Epoch 60/200\n",
      "4/4 [==============================] - 0s 4ms/step - loss: 1.8712 - accuracy: 0.2500\n",
      "Epoch 61/200\n",
      "4/4 [==============================] - 0s 6ms/step - loss: 2.0913 - accuracy: 0.0500\n",
      "Epoch 62/200\n",
      "4/4 [==============================] - 0s 6ms/step - loss: 1.9775 - accuracy: 0.0000e+00\n",
      "Epoch 63/200\n",
      "4/4 [==============================] - 0s 5ms/step - loss: 1.9201 - accuracy: 0.1500\n",
      "Epoch 64/200\n",
      "4/4 [==============================] - 0s 4ms/step - loss: 1.7894 - accuracy: 0.2500\n",
      "Epoch 65/200\n",
      "4/4 [==============================] - 0s 6ms/step - loss: 1.8842 - accuracy: 0.2000\n",
      "Epoch 66/200\n",
      "4/4 [==============================] - 0s 3ms/step - loss: 2.0366 - accuracy: 0.0500\n",
      "Epoch 67/200\n",
      "4/4 [==============================] - 0s 3ms/step - loss: 1.9623 - accuracy: 0.1000\n",
      "Epoch 68/200\n",
      "4/4 [==============================] - 0s 3ms/step - loss: 1.9358 - accuracy: 0.1500\n",
      "Epoch 69/200\n",
      "4/4 [==============================] - 0s 3ms/step - loss: 1.9816 - accuracy: 0.1500\n",
      "Epoch 70/200\n",
      "4/4 [==============================] - 0s 5ms/step - loss: 1.9466 - accuracy: 0.2000\n",
      "Epoch 71/200\n",
      "4/4 [==============================] - 0s 5ms/step - loss: 1.8335 - accuracy: 0.3000\n",
      "Epoch 72/200\n",
      "4/4 [==============================] - 0s 4ms/step - loss: 1.8356 - accuracy: 0.1000\n",
      "Epoch 73/200\n",
      "4/4 [==============================] - 0s 3ms/step - loss: 1.7956 - accuracy: 0.2000\n",
      "Epoch 74/200\n",
      "4/4 [==============================] - 0s 2ms/step - loss: 1.8886 - accuracy: 0.2500\n",
      "Epoch 75/200\n",
      "4/4 [==============================] - 0s 6ms/step - loss: 1.8361 - accuracy: 0.2000\n",
      "Epoch 76/200\n",
      "4/4 [==============================] - 0s 5ms/step - loss: 1.9371 - accuracy: 0.1500\n",
      "Epoch 77/200\n",
      "4/4 [==============================] - 0s 3ms/step - loss: 2.0457 - accuracy: 0.2500\n",
      "Epoch 78/200\n",
      "4/4 [==============================] - 0s 5ms/step - loss: 2.0006 - accuracy: 0.1500\n",
      "Epoch 79/200\n",
      "4/4 [==============================] - 0s 4ms/step - loss: 1.9318 - accuracy: 0.1500\n",
      "Epoch 80/200\n",
      "4/4 [==============================] - 0s 4ms/step - loss: 1.8179 - accuracy: 0.3500\n",
      "Epoch 81/200\n",
      "4/4 [==============================] - 0s 3ms/step - loss: 1.7720 - accuracy: 0.3000\n",
      "Epoch 82/200\n",
      "4/4 [==============================] - 0s 3ms/step - loss: 1.8908 - accuracy: 0.1000\n",
      "Epoch 83/200\n",
      "4/4 [==============================] - 0s 6ms/step - loss: 1.8273 - accuracy: 0.1000\n",
      "Epoch 84/200\n",
      "4/4 [==============================] - 0s 5ms/step - loss: 1.9113 - accuracy: 0.1000\n",
      "Epoch 85/200\n",
      "4/4 [==============================] - 0s 4ms/step - loss: 1.8801 - accuracy: 0.0500\n",
      "Epoch 86/200\n",
      "4/4 [==============================] - 0s 7ms/step - loss: 1.8757 - accuracy: 0.1500\n",
      "Epoch 87/200\n",
      "4/4 [==============================] - 0s 3ms/step - loss: 1.9228 - accuracy: 0.1000\n",
      "Epoch 88/200\n",
      "4/4 [==============================] - 0s 6ms/step - loss: 2.0610 - accuracy: 0.1000\n",
      "Epoch 89/200\n",
      "4/4 [==============================] - 0s 5ms/step - loss: 1.8751 - accuracy: 0.1500\n",
      "Epoch 90/200\n",
      "4/4 [==============================] - 0s 4ms/step - loss: 1.7988 - accuracy: 0.1500\n",
      "Epoch 91/200\n",
      "4/4 [==============================] - 0s 4ms/step - loss: 1.8631 - accuracy: 0.1500\n",
      "Epoch 92/200\n",
      "4/4 [==============================] - 0s 5ms/step - loss: 1.8037 - accuracy: 0.3500\n",
      "Epoch 93/200\n",
      "4/4 [==============================] - 0s 4ms/step - loss: 1.8464 - accuracy: 0.2500\n",
      "Epoch 94/200\n",
      "4/4 [==============================] - 0s 5ms/step - loss: 2.0023 - accuracy: 0.1500\n",
      "Epoch 95/200\n",
      "4/4 [==============================] - 0s 3ms/step - loss: 1.9697 - accuracy: 0.2000\n",
      "Epoch 96/200\n",
      "4/4 [==============================] - 0s 2ms/step - loss: 2.0487 - accuracy: 0.2500\n",
      "Epoch 97/200\n",
      "4/4 [==============================] - 0s 3ms/step - loss: 2.1040 - accuracy: 0.2000\n",
      "Epoch 98/200\n",
      "4/4 [==============================] - 0s 5ms/step - loss: 1.8751 - accuracy: 0.3000\n",
      "Epoch 99/200\n",
      "4/4 [==============================] - 0s 5ms/step - loss: 1.9397 - accuracy: 0.1000\n",
      "Epoch 100/200\n",
      "4/4 [==============================] - 0s 3ms/step - loss: 1.8913 - accuracy: 0.1500\n",
      "Epoch 101/200\n",
      "4/4 [==============================] - 0s 5ms/step - loss: 1.8751 - accuracy: 0.1000\n",
      "Epoch 102/200\n",
      "4/4 [==============================] - 0s 4ms/step - loss: 1.9626 - accuracy: 0.2500\n",
      "Epoch 103/200\n",
      "4/4 [==============================] - 0s 6ms/step - loss: 1.8476 - accuracy: 0.2500\n",
      "Epoch 104/200\n",
      "4/4 [==============================] - 0s 3ms/step - loss: 1.9592 - accuracy: 0.1000\n",
      "Epoch 105/200\n",
      "4/4 [==============================] - 0s 3ms/step - loss: 1.9431 - accuracy: 0.1000\n",
      "Epoch 106/200\n",
      "4/4 [==============================] - 0s 3ms/step - loss: 1.9091 - accuracy: 0.1500\n",
      "Epoch 107/200\n",
      "4/4 [==============================] - 0s 3ms/step - loss: 2.0069 - accuracy: 0.1500\n",
      "Epoch 108/200\n",
      "4/4 [==============================] - 0s 3ms/step - loss: 1.9098 - accuracy: 0.1000\n",
      "Epoch 109/200\n",
      "4/4 [==============================] - 0s 4ms/step - loss: 1.9073 - accuracy: 0.1000\n",
      "Epoch 110/200\n",
      "4/4 [==============================] - 0s 3ms/step - loss: 1.8421 - accuracy: 0.3000\n",
      "Epoch 111/200\n",
      "4/4 [==============================] - 0s 5ms/step - loss: 1.8395 - accuracy: 0.2000\n",
      "Epoch 112/200\n",
      "4/4 [==============================] - 0s 4ms/step - loss: 1.8742 - accuracy: 0.2000\n",
      "Epoch 113/200\n",
      "4/4 [==============================] - 0s 2ms/step - loss: 1.9823 - accuracy: 0.1500\n",
      "Epoch 114/200\n",
      "4/4 [==============================] - 0s 5ms/step - loss: 2.0117 - accuracy: 0.1500\n",
      "Epoch 115/200\n",
      "4/4 [==============================] - 0s 3ms/step - loss: 1.9646 - accuracy: 0.0500\n",
      "Epoch 116/200\n",
      "4/4 [==============================] - 0s 3ms/step - loss: 2.0019 - accuracy: 0.0500\n",
      "Epoch 117/200\n",
      "4/4 [==============================] - 0s 6ms/step - loss: 1.8703 - accuracy: 0.2500\n",
      "Epoch 118/200\n",
      "4/4 [==============================] - 0s 5ms/step - loss: 1.9425 - accuracy: 0.2000\n",
      "Epoch 119/200\n",
      "4/4 [==============================] - 0s 5ms/step - loss: 1.8116 - accuracy: 0.2500\n",
      "Epoch 120/200\n",
      "4/4 [==============================] - 0s 4ms/step - loss: 1.9621 - accuracy: 0.1500\n",
      "Epoch 121/200\n",
      "4/4 [==============================] - 0s 5ms/step - loss: 1.9082 - accuracy: 0.0500\n",
      "Epoch 122/200\n",
      "4/4 [==============================] - 0s 3ms/step - loss: 1.9130 - accuracy: 0.2000\n",
      "Epoch 123/200\n",
      "4/4 [==============================] - 0s 5ms/step - loss: 1.8748 - accuracy: 0.2000\n",
      "Epoch 124/200\n",
      "4/4 [==============================] - 0s 3ms/step - loss: 1.8375 - accuracy: 0.2000\n",
      "Epoch 125/200\n",
      "4/4 [==============================] - 0s 3ms/step - loss: 1.9733 - accuracy: 0.2500\n",
      "Epoch 126/200\n",
      "4/4 [==============================] - 0s 5ms/step - loss: 1.9435 - accuracy: 0.1500\n",
      "Epoch 127/200\n",
      "4/4 [==============================] - 0s 3ms/step - loss: 1.8120 - accuracy: 0.1500\n",
      "Epoch 128/200\n",
      "4/4 [==============================] - 0s 2ms/step - loss: 1.7761 - accuracy: 0.2500\n",
      "Epoch 129/200\n",
      "4/4 [==============================] - 0s 3ms/step - loss: 1.8042 - accuracy: 0.1500\n",
      "Epoch 130/200\n",
      "4/4 [==============================] - 0s 3ms/step - loss: 1.9051 - accuracy: 0.2500\n",
      "Epoch 131/200\n",
      "4/4 [==============================] - 0s 3ms/step - loss: 1.8432 - accuracy: 0.2500\n",
      "Epoch 132/200\n",
      "4/4 [==============================] - 0s 5ms/step - loss: 1.9192 - accuracy: 0.1000\n",
      "Epoch 133/200\n",
      "4/4 [==============================] - 0s 3ms/step - loss: 1.8716 - accuracy: 0.1500\n",
      "Epoch 134/200\n",
      "4/4 [==============================] - 0s 5ms/step - loss: 1.8196 - accuracy: 0.2000\n",
      "Epoch 135/200\n",
      "4/4 [==============================] - 0s 4ms/step - loss: 1.7701 - accuracy: 0.3000\n",
      "Epoch 136/200\n",
      "4/4 [==============================] - 0s 5ms/step - loss: 1.7868 - accuracy: 0.2000\n",
      "Epoch 137/200\n",
      "4/4 [==============================] - 0s 3ms/step - loss: 1.9812 - accuracy: 0.1500\n",
      "Epoch 138/200\n",
      "4/4 [==============================] - 0s 5ms/step - loss: 1.8425 - accuracy: 0.2500\n",
      "Epoch 139/200\n",
      "4/4 [==============================] - 0s 3ms/step - loss: 1.8385 - accuracy: 0.1500\n",
      "Epoch 140/200\n",
      "4/4 [==============================] - 0s 4ms/step - loss: 1.9098 - accuracy: 0.2000\n",
      "Epoch 141/200\n",
      "4/4 [==============================] - 0s 5ms/step - loss: 1.8665 - accuracy: 0.2500\n",
      "Epoch 142/200\n",
      "4/4 [==============================] - 0s 5ms/step - loss: 1.7999 - accuracy: 0.2500\n",
      "Epoch 143/200\n",
      "4/4 [==============================] - 0s 5ms/step - loss: 1.9930 - accuracy: 0.1000\n",
      "Epoch 144/200\n",
      "4/4 [==============================] - 0s 5ms/step - loss: 1.9357 - accuracy: 0.1000\n",
      "Epoch 145/200\n",
      "4/4 [==============================] - 0s 3ms/step - loss: 1.7952 - accuracy: 0.1500\n",
      "Epoch 146/200\n",
      "4/4 [==============================] - 0s 3ms/step - loss: 1.9344 - accuracy: 0.0500\n",
      "Epoch 147/200\n",
      "4/4 [==============================] - 0s 5ms/step - loss: 1.8287 - accuracy: 0.2000\n",
      "Epoch 148/200\n",
      "4/4 [==============================] - 0s 3ms/step - loss: 1.8634 - accuracy: 0.1500\n",
      "Epoch 149/200\n",
      "4/4 [==============================] - 0s 5ms/step - loss: 1.7254 - accuracy: 0.3500\n",
      "Epoch 150/200\n",
      "4/4 [==============================] - 0s 3ms/step - loss: 1.8327 - accuracy: 0.2000\n",
      "Epoch 151/200\n",
      "4/4 [==============================] - 0s 3ms/step - loss: 1.8741 - accuracy: 0.2500\n",
      "Epoch 152/200\n",
      "4/4 [==============================] - 0s 3ms/step - loss: 1.9537 - accuracy: 0.2500\n",
      "Epoch 153/200\n",
      "4/4 [==============================] - 0s 3ms/step - loss: 1.8662 - accuracy: 0.1000\n",
      "Epoch 154/200\n",
      "4/4 [==============================] - 0s 5ms/step - loss: 2.0762 - accuracy: 0.0500\n",
      "Epoch 155/200\n",
      "4/4 [==============================] - 0s 6ms/step - loss: 1.7914 - accuracy: 0.3000\n",
      "Epoch 156/200\n",
      "4/4 [==============================] - 0s 2ms/step - loss: 1.8584 - accuracy: 0.2000\n",
      "Epoch 157/200\n",
      "4/4 [==============================] - 0s 5ms/step - loss: 1.9282 - accuracy: 0.0500\n",
      "Epoch 158/200\n",
      "4/4 [==============================] - 0s 6ms/step - loss: 1.8748 - accuracy: 0.2500\n",
      "Epoch 159/200\n",
      "4/4 [==============================] - 0s 6ms/step - loss: 1.9496 - accuracy: 0.2500\n",
      "Epoch 160/200\n",
      "4/4 [==============================] - 0s 5ms/step - loss: 1.8345 - accuracy: 0.3500\n",
      "Epoch 161/200\n",
      "4/4 [==============================] - 0s 3ms/step - loss: 1.9142 - accuracy: 0.1500\n",
      "Epoch 162/200\n",
      "4/4 [==============================] - 0s 3ms/step - loss: 1.8756 - accuracy: 0.2000\n",
      "Epoch 163/200\n",
      "4/4 [==============================] - 0s 3ms/step - loss: 1.8602 - accuracy: 0.2000\n",
      "Epoch 164/200\n",
      "4/4 [==============================] - 0s 5ms/step - loss: 1.8119 - accuracy: 0.3000\n",
      "Epoch 165/200\n",
      "4/4 [==============================] - 0s 6ms/step - loss: 1.8178 - accuracy: 0.1000\n",
      "Epoch 166/200\n",
      "4/4 [==============================] - 0s 3ms/step - loss: 1.8723 - accuracy: 0.2500\n",
      "Epoch 167/200\n",
      "4/4 [==============================] - 0s 5ms/step - loss: 1.9153 - accuracy: 0.3000\n",
      "Epoch 168/200\n",
      "4/4 [==============================] - 0s 3ms/step - loss: 2.0021 - accuracy: 0.2000\n",
      "Epoch 169/200\n",
      "4/4 [==============================] - 0s 3ms/step - loss: 1.8713 - accuracy: 0.1500\n",
      "Epoch 170/200\n",
      "4/4 [==============================] - 0s 5ms/step - loss: 2.0059 - accuracy: 0.0500\n",
      "Epoch 171/200\n",
      "4/4 [==============================] - 0s 3ms/step - loss: 1.9016 - accuracy: 0.1000\n",
      "Epoch 172/200\n",
      "4/4 [==============================] - 0s 3ms/step - loss: 1.9496 - accuracy: 0.1000\n",
      "Epoch 173/200\n",
      "4/4 [==============================] - 0s 4ms/step - loss: 1.9176 - accuracy: 0.2000\n",
      "Epoch 174/200\n",
      "4/4 [==============================] - 0s 4ms/step - loss: 1.9022 - accuracy: 0.2000\n",
      "Epoch 175/200\n",
      "4/4 [==============================] - 0s 3ms/step - loss: 1.8989 - accuracy: 0.2000\n",
      "Epoch 176/200\n",
      "4/4 [==============================] - 0s 3ms/step - loss: 1.8307 - accuracy: 0.3000\n",
      "Epoch 177/200\n",
      "4/4 [==============================] - 0s 3ms/step - loss: 1.9564 - accuracy: 0.3000\n",
      "Epoch 178/200\n",
      "4/4 [==============================] - 0s 4ms/step - loss: 1.8669 - accuracy: 0.2000\n",
      "Epoch 179/200\n",
      "4/4 [==============================] - 0s 3ms/step - loss: 1.8868 - accuracy: 0.2000\n",
      "Epoch 180/200\n",
      "4/4 [==============================] - 0s 6ms/step - loss: 1.9413 - accuracy: 0.1500\n",
      "Epoch 181/200\n",
      "4/4 [==============================] - 0s 5ms/step - loss: 1.7815 - accuracy: 0.3500\n",
      "Epoch 182/200\n",
      "4/4 [==============================] - 0s 5ms/step - loss: 1.8404 - accuracy: 0.1000\n",
      "Epoch 183/200\n",
      "4/4 [==============================] - 0s 5ms/step - loss: 1.8032 - accuracy: 0.2000\n",
      "Epoch 184/200\n",
      "4/4 [==============================] - 0s 5ms/step - loss: 1.8842 - accuracy: 0.1500\n",
      "Epoch 185/200\n",
      "4/4 [==============================] - 0s 5ms/step - loss: 1.8565 - accuracy: 0.2000\n",
      "Epoch 186/200\n",
      "4/4 [==============================] - 0s 5ms/step - loss: 1.7969 - accuracy: 0.2500\n",
      "Epoch 187/200\n",
      "4/4 [==============================] - 0s 5ms/step - loss: 1.8423 - accuracy: 0.2000\n",
      "Epoch 188/200\n",
      "4/4 [==============================] - 0s 4ms/step - loss: 1.7565 - accuracy: 0.1500\n",
      "Epoch 189/200\n",
      "4/4 [==============================] - 0s 5ms/step - loss: 1.9433 - accuracy: 0.1500\n",
      "Epoch 190/200\n",
      "4/4 [==============================] - 0s 5ms/step - loss: 2.0178 - accuracy: 0.1000\n",
      "Epoch 191/200\n",
      "4/4 [==============================] - 0s 4ms/step - loss: 1.8581 - accuracy: 0.0000e+00\n",
      "Epoch 192/200\n",
      "4/4 [==============================] - 0s 5ms/step - loss: 1.8592 - accuracy: 0.2000\n",
      "Epoch 193/200\n",
      "4/4 [==============================] - 0s 2ms/step - loss: 1.8156 - accuracy: 0.1500\n",
      "Epoch 194/200\n",
      "4/4 [==============================] - 0s 3ms/step - loss: 1.8753 - accuracy: 0.2000\n",
      "Epoch 195/200\n",
      "4/4 [==============================] - 0s 4ms/step - loss: 2.0772 - accuracy: 0.1000\n",
      "Epoch 196/200\n",
      "4/4 [==============================] - 0s 5ms/step - loss: 1.8854 - accuracy: 0.1500\n",
      "Epoch 197/200\n",
      "4/4 [==============================] - 0s 3ms/step - loss: 1.8387 - accuracy: 0.1500\n",
      "Epoch 198/200\n",
      "4/4 [==============================] - 0s 3ms/step - loss: 1.8996 - accuracy: 0.2000\n",
      "Epoch 199/200\n",
      "4/4 [==============================] - 0s 3ms/step - loss: 1.7899 - accuracy: 0.2000\n",
      "Epoch 200/200\n",
      "4/4 [==============================] - 0s 3ms/step - loss: 1.9784 - accuracy: 0.0000e+00\n"
     ]
    }
   ],
   "source": [
    "hist = model.fit(np.array(train_x), np.array(train_y),epochs=200, batch_size=5, verbose=1)"
   ]
  },
  {
   "cell_type": "code",
   "execution_count": 58,
   "id": "229f0420-e14c-40e6-908a-e9f491c1510b",
   "metadata": {},
   "outputs": [],
   "source": [
    "model.save('chatbot_model.h5', hist)"
   ]
  },
  {
   "cell_type": "code",
   "execution_count": 53,
   "id": "8751e361-9ce8-4b86-97fa-88d644f2b34b",
   "metadata": {},
   "outputs": [
    {
     "name": "stdout",
     "output_type": "stream",
     "text": [
      "INFO:tensorflow:Assets written to: chatbot_model.model\\assets\n"
     ]
    }
   ],
   "source": []
  },
  {
   "cell_type": "code",
   "execution_count": null,
   "id": "0b576d1c-4a6b-427c-847d-bcc475763e7c",
   "metadata": {},
   "outputs": [],
   "source": []
  },
  {
   "cell_type": "code",
   "execution_count": 50,
   "id": "7011f576-a279-451a-a4d9-afa0a8565194",
   "metadata": {},
   "outputs": [],
   "source": [
    "#using the model"
   ]
  },
  {
   "cell_type": "code",
   "execution_count": 49,
   "id": "3600c436-2eb9-4b5c-bd4e-96eddaa9f910",
   "metadata": {},
   "outputs": [],
   "source": [
    "from tensorflow.keras.models import load_model"
   ]
  },
  {
   "cell_type": "code",
   "execution_count": 51,
   "id": "9606e17e-32a2-4911-b0d6-8e9867277434",
   "metadata": {},
   "outputs": [],
   "source": [
    "words = pickle.load(open('words.pkl', 'rb'))"
   ]
  },
  {
   "cell_type": "code",
   "execution_count": 52,
   "id": "6387b773-f69d-4385-a64e-35d8fd30fa32",
   "metadata": {},
   "outputs": [],
   "source": [
    "classes =  pickle.load(open('classes.pkl', 'rb'))"
   ]
  },
  {
   "cell_type": "code",
   "execution_count": 54,
   "id": "69471205-80e7-4530-ade3-e307f8a209e1",
   "metadata": {},
   "outputs": [],
   "source": [
    "model = load_model(\"chatbot_model.model\")"
   ]
  },
  {
   "cell_type": "code",
   "execution_count": 63,
   "id": "c5a2b244-1269-45c7-b8b4-6fcfc31a7f40",
   "metadata": {},
   "outputs": [],
   "source": [
    "def clean_up_sentence(sentence):\n",
    "    sentence_words = nltk.word_tokenize(sentence)\n",
    "    sentence_words=[lemmatizer.lemmatize(word) for word in sentence_words]\n",
    "    return sentence_words"
   ]
  },
  {
   "cell_type": "code",
   "execution_count": 64,
   "id": "45bdb3d0-cd09-43c7-85b6-ed82c989625c",
   "metadata": {},
   "outputs": [],
   "source": [
    "def bag_of_words(sentence):\n",
    "    sentence_words = clean_up_sentence(sentence)\n",
    "    bag =[0]*len(words)\n",
    "    \n",
    "    for w in sentence_words:\n",
    "        for i, word in enumerate(words):\n",
    "            if word==w:\n",
    "                bag[i]=1\n",
    "    return np.array(bag)"
   ]
  },
  {
   "cell_type": "code",
   "execution_count": 66,
   "id": "cf814c16-446f-497a-8822-2af3e55b9de3",
   "metadata": {},
   "outputs": [],
   "source": [
    "def predict_class(sentence):\n",
    "    bow = bag_of_words(sentence)\n",
    "    res= model.predict(np.array([bow]))[0]\n",
    "    ERROR_THRESHOLD=0.25\n",
    "    results =[[i,r] for i,r in enumerate(res) if r>ERROR_THRESHOLD]\n",
    "    \n",
    "    results.sort(key= lambda x:x[1], reverse=True)\n",
    "    \n",
    "    return_list =[]\n",
    "    \n",
    "    for r in results:\n",
    "        return_list.append({'intent':classes[r[0]], 'probability': str(r[1])})\n",
    "    return return_list\n",
    "    "
   ]
  },
  {
   "cell_type": "code",
   "execution_count": 61,
   "id": "c1ecef02-ca07-4200-9175-8715b3ced3d7",
   "metadata": {},
   "outputs": [],
   "source": [
    "def get_response(intents_list, intents_json):\n",
    "    tag = intents_list[0]['intent']\n",
    "    list_of_intents=intents_json['intents']\n",
    "    for i in list_of_intents:\n",
    "        if i['tag']==tag:\n",
    "            result= random.choice(i['responses'])\n",
    "            break\n",
    "    return result"
   ]
  },
  {
   "cell_type": "code",
   "execution_count": 69,
   "id": "96d90690-783b-4811-94d2-ec8da1190123",
   "metadata": {},
   "outputs": [
    {
     "name": "stdout",
     "output_type": "stream",
     "text": [
      "1/1 [==============================] - 0s 46ms/step\n"
     ]
    },
    {
     "data": {
      "text/plain": [
       "'check our other services it might help you to go through some of your difficulties'"
      ]
     },
     "execution_count": 69,
     "metadata": {},
     "output_type": "execute_result"
    }
   ],
   "source": [
    "message = \"can i use service\"\n",
    "ints = predict_class(message)\n",
    "get_response(ints, intents)"
   ]
  },
  {
   "cell_type": "code",
   "execution_count": 70,
   "id": "4e2eb0df-4f0b-4f78-8be4-d977b333ccef",
   "metadata": {},
   "outputs": [],
   "source": [
    "ans = get_response(ints, intents)"
   ]
  },
  {
   "cell_type": "code",
   "execution_count": 71,
   "id": "fde17f3f-8ccf-47da-a0a0-48592cc73470",
   "metadata": {},
   "outputs": [
    {
     "data": {
      "text/plain": [
       "str"
      ]
     },
     "execution_count": 71,
     "metadata": {},
     "output_type": "execute_result"
    }
   ],
   "source": [
    "type(ans)"
   ]
  },
  {
   "cell_type": "code",
   "execution_count": 72,
   "id": "8b0a40e5-e3fd-4e1a-99ec-ccad25043099",
   "metadata": {},
   "outputs": [
    {
     "data": {
      "text/plain": [
       "'its okay there are lot of options out there you can try them'"
      ]
     },
     "execution_count": 72,
     "metadata": {},
     "output_type": "execute_result"
    }
   ],
   "source": [
    "ans"
   ]
  },
  {
   "cell_type": "code",
   "execution_count": null,
   "id": "daf86a84-f6a4-4e4e-9481-697904f52496",
   "metadata": {},
   "outputs": [],
   "source": []
  }
 ],
 "metadata": {
  "kernelspec": {
   "display_name": "Python 3 (ipykernel)",
   "language": "python",
   "name": "python3"
  },
  "language_info": {
   "codemirror_mode": {
    "name": "ipython",
    "version": 3
   },
   "file_extension": ".py",
   "mimetype": "text/x-python",
   "name": "python",
   "nbconvert_exporter": "python",
   "pygments_lexer": "ipython3",
   "version": "3.9.13"
  },
  "widgets": {
   "application/vnd.jupyter.widget-state+json": {
    "state": {},
    "version_major": 2,
    "version_minor": 0
   }
  }
 },
 "nbformat": 4,
 "nbformat_minor": 5
}

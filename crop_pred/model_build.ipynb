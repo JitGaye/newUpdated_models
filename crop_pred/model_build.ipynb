{
 "cells": [
  {
   "cell_type": "code",
   "execution_count": 2,
   "id": "f1676db2-5c26-4304-b4e2-122d015c1d2c",
   "metadata": {},
   "outputs": [],
   "source": [
    "import tensorflow as tf\n",
    "import pandas as pd\n",
    "import numpy as np\n",
    "import matplotlib.pyplot as plt\n",
    "import os\n",
    "from tensorflow.keras.datasets import mnist\n",
    "from tensorflow.keras.models import Sequential\n",
    "from tensorflow.keras.layers import Conv2D\n",
    "from tensorflow.keras.layers import MaxPool2D\n",
    "from tensorflow.keras.layers import Flatten\n",
    "from tensorflow.keras.layers import Dropout\n",
    "from tensorflow.keras.layers import Dense\n",
    "from sklearn.model_selection import train_test_split\n",
    "from sklearn.preprocessing import LabelEncoder\n",
    "import cv2 as cv"
   ]
  },
  {
   "cell_type": "code",
   "execution_count": 3,
   "id": "056d4121-a979-4e8f-bae1-cbd4f535dab7",
   "metadata": {},
   "outputs": [],
   "source": [
    "path = \"archive/New Plant Diseases Dataset(Augmented)/New Plant Diseases Dataset(Augmented)\"\n",
    "\n",
    "train = os.listdir(path + \"/train\")\n",
    "key_value = dict()\n",
    "\n",
    "for t in range(len(train)):\n",
    "    key_value[train[t]] = os.listdir(path+'/train/'+train[t])"
   ]
  },
  {
   "cell_type": "code",
   "execution_count": 4,
   "id": "2b9415b3-94a0-4c22-8ee1-d0316c4afe6c",
   "metadata": {},
   "outputs": [],
   "source": [
    "df = []\n",
    "for i in range(len(train)):\n",
    "    for j in range(len(key_value[train[i]])):\n",
    "        df.append([path+'/train/'+train[i]+'/'+key_value[train[i]][j],train[i]])"
   ]
  },
  {
   "cell_type": "code",
   "execution_count": 5,
   "id": "4ee9214b-e00e-4333-85f8-dba162044fc3",
   "metadata": {},
   "outputs": [
    {
     "data": {
      "text/html": [
       "<div>\n",
       "<style scoped>\n",
       "    .dataframe tbody tr th:only-of-type {\n",
       "        vertical-align: middle;\n",
       "    }\n",
       "\n",
       "    .dataframe tbody tr th {\n",
       "        vertical-align: top;\n",
       "    }\n",
       "\n",
       "    .dataframe thead th {\n",
       "        text-align: right;\n",
       "    }\n",
       "</style>\n",
       "<table border=\"1\" class=\"dataframe\">\n",
       "  <thead>\n",
       "    <tr style=\"text-align: right;\">\n",
       "      <th></th>\n",
       "      <th>image</th>\n",
       "      <th>label</th>\n",
       "    </tr>\n",
       "  </thead>\n",
       "  <tbody>\n",
       "    <tr>\n",
       "      <th>0</th>\n",
       "      <td>archive/New Plant Diseases Dataset(Augmented)/...</td>\n",
       "      <td>Apple___Apple_scab</td>\n",
       "    </tr>\n",
       "    <tr>\n",
       "      <th>1</th>\n",
       "      <td>archive/New Plant Diseases Dataset(Augmented)/...</td>\n",
       "      <td>Apple___Apple_scab</td>\n",
       "    </tr>\n",
       "    <tr>\n",
       "      <th>2</th>\n",
       "      <td>archive/New Plant Diseases Dataset(Augmented)/...</td>\n",
       "      <td>Apple___Apple_scab</td>\n",
       "    </tr>\n",
       "    <tr>\n",
       "      <th>3</th>\n",
       "      <td>archive/New Plant Diseases Dataset(Augmented)/...</td>\n",
       "      <td>Apple___Apple_scab</td>\n",
       "    </tr>\n",
       "    <tr>\n",
       "      <th>4</th>\n",
       "      <td>archive/New Plant Diseases Dataset(Augmented)/...</td>\n",
       "      <td>Apple___Apple_scab</td>\n",
       "    </tr>\n",
       "    <tr>\n",
       "      <th>...</th>\n",
       "      <td>...</td>\n",
       "      <td>...</td>\n",
       "    </tr>\n",
       "    <tr>\n",
       "      <th>70290</th>\n",
       "      <td>archive/New Plant Diseases Dataset(Augmented)/...</td>\n",
       "      <td>Tomato___Tomato_Yellow_Leaf_Curl_Virus</td>\n",
       "    </tr>\n",
       "    <tr>\n",
       "      <th>70291</th>\n",
       "      <td>archive/New Plant Diseases Dataset(Augmented)/...</td>\n",
       "      <td>Tomato___Tomato_Yellow_Leaf_Curl_Virus</td>\n",
       "    </tr>\n",
       "    <tr>\n",
       "      <th>70292</th>\n",
       "      <td>archive/New Plant Diseases Dataset(Augmented)/...</td>\n",
       "      <td>Tomato___Tomato_Yellow_Leaf_Curl_Virus</td>\n",
       "    </tr>\n",
       "    <tr>\n",
       "      <th>70293</th>\n",
       "      <td>archive/New Plant Diseases Dataset(Augmented)/...</td>\n",
       "      <td>Tomato___Tomato_Yellow_Leaf_Curl_Virus</td>\n",
       "    </tr>\n",
       "    <tr>\n",
       "      <th>70294</th>\n",
       "      <td>archive/New Plant Diseases Dataset(Augmented)/...</td>\n",
       "      <td>Tomato___Tomato_Yellow_Leaf_Curl_Virus</td>\n",
       "    </tr>\n",
       "  </tbody>\n",
       "</table>\n",
       "<p>70295 rows × 2 columns</p>\n",
       "</div>"
      ],
      "text/plain": [
       "                                                   image  \\\n",
       "0      archive/New Plant Diseases Dataset(Augmented)/...   \n",
       "1      archive/New Plant Diseases Dataset(Augmented)/...   \n",
       "2      archive/New Plant Diseases Dataset(Augmented)/...   \n",
       "3      archive/New Plant Diseases Dataset(Augmented)/...   \n",
       "4      archive/New Plant Diseases Dataset(Augmented)/...   \n",
       "...                                                  ...   \n",
       "70290  archive/New Plant Diseases Dataset(Augmented)/...   \n",
       "70291  archive/New Plant Diseases Dataset(Augmented)/...   \n",
       "70292  archive/New Plant Diseases Dataset(Augmented)/...   \n",
       "70293  archive/New Plant Diseases Dataset(Augmented)/...   \n",
       "70294  archive/New Plant Diseases Dataset(Augmented)/...   \n",
       "\n",
       "                                        label  \n",
       "0                          Apple___Apple_scab  \n",
       "1                          Apple___Apple_scab  \n",
       "2                          Apple___Apple_scab  \n",
       "3                          Apple___Apple_scab  \n",
       "4                          Apple___Apple_scab  \n",
       "...                                       ...  \n",
       "70290  Tomato___Tomato_Yellow_Leaf_Curl_Virus  \n",
       "70291  Tomato___Tomato_Yellow_Leaf_Curl_Virus  \n",
       "70292  Tomato___Tomato_Yellow_Leaf_Curl_Virus  \n",
       "70293  Tomato___Tomato_Yellow_Leaf_Curl_Virus  \n",
       "70294  Tomato___Tomato_Yellow_Leaf_Curl_Virus  \n",
       "\n",
       "[70295 rows x 2 columns]"
      ]
     },
     "execution_count": 5,
     "metadata": {},
     "output_type": "execute_result"
    }
   ],
   "source": [
    "test = pd.DataFrame(df,columns=['image','label'])\n",
    "test"
   ]
  },
  {
   "cell_type": "code",
   "execution_count": 6,
   "id": "7b6c3e77-06b9-4455-8b8f-ddcf2ee81126",
   "metadata": {},
   "outputs": [],
   "source": [
    "x = []\n",
    "for i in test['image']:\n",
    "    img = cv.imread(i)\n",
    "    img = cv.cvtColor(img,cv.COLOR_BGR2GRAY)\n",
    "    img = cv.resize(img,(64,64))\n",
    "    x.append(img)"
   ]
  },
  {
   "cell_type": "code",
   "execution_count": 7,
   "id": "b89445ae-adfb-402f-8acd-854a5fbe87e4",
   "metadata": {},
   "outputs": [],
   "source": [
    "x = np.array(x).reshape(70295, 64, 64,1)"
   ]
  },
  {
   "cell_type": "code",
   "execution_count": 8,
   "id": "b18e8f56-c97c-4651-b72e-24ff2ebcd434",
   "metadata": {},
   "outputs": [],
   "source": [
    "np.save('image_array',x)"
   ]
  },
  {
   "cell_type": "code",
   "execution_count": 9,
   "id": "1a82b316-95d1-4909-8d18-8bfaa7a4d0ea",
   "metadata": {},
   "outputs": [],
   "source": [
    "y = test['label']   \n",
    "le = LabelEncoder()\n",
    "y_label = le.fit_transform(y)"
   ]
  },
  {
   "cell_type": "code",
   "execution_count": 10,
   "id": "395df6b0-1cf6-4642-8039-a98ae05477a8",
   "metadata": {},
   "outputs": [],
   "source": [
    "train_images,test_images,train_labels,test_labels = train_test_split(x,y_label,test_size=0.2,random_state=42)"
   ]
  },
  {
   "cell_type": "code",
   "execution_count": 11,
   "id": "c70a35f5-9ab1-4734-a716-e871ecc81846",
   "metadata": {},
   "outputs": [],
   "source": [
    "train_images = train_images/255\n",
    "test_images = test_images/255"
   ]
  },
  {
   "cell_type": "code",
   "execution_count": 12,
   "id": "9a813133-e450-4422-9fb0-ae6e1465a19c",
   "metadata": {},
   "outputs": [],
   "source": [
    "y_test = pd.DataFrame(train_labels)"
   ]
  },
  {
   "cell_type": "code",
   "execution_count": 13,
   "id": "21eac1af-456c-4e82-aeb9-e970265684f8",
   "metadata": {},
   "outputs": [],
   "source": [
    "model = Sequential()\n",
    "model.add(Conv2D(128,(5,5),activation='relu',input_shape=(64,64,1)))\n",
    "model.add(MaxPool2D(2,2))\n",
    "model.add(Conv2D(256,(3,3),activation='relu',input_shape=(64,64,1)))\n",
    "model.add(MaxPool2D(2,2))\n",
    "model.add(Conv2D(256,(3,3),activation='relu',input_shape=(64,64,1)))\n",
    "model.add(MaxPool2D(2,2))\n",
    "model.add(Flatten())\n",
    "model.add(Dense(512,activation='relu'))\n",
    "model.add(Dense(38,activation='softmax'))\n",
    "model.compile(loss='sparse_categorical_crossentropy',optimizer='adam',metrics=['accuracy'])"
   ]
  },
  {
   "cell_type": "code",
   "execution_count": 14,
   "id": "a4743be9-1887-4be4-afa6-f089c00dafa8",
   "metadata": {},
   "outputs": [
    {
     "name": "stdout",
     "output_type": "stream",
     "text": [
      "1758/1758 [==============================] - 15609s 9s/step - loss: 1.5520 - accuracy: 0.5406 - val_loss: 1.0768 - val_accuracy: 0.6563\n"
     ]
    },
    {
     "data": {
      "text/plain": [
       "<keras.callbacks.History at 0x1e4c862a5b0>"
      ]
     },
     "execution_count": 14,
     "metadata": {},
     "output_type": "execute_result"
    }
   ],
   "source": [
    "model.fit(train_images,y_test,epochs=1,validation_data = (test_images,test_labels))"
   ]
  },
  {
   "cell_type": "code",
   "execution_count": 15,
   "id": "70454b43-75bb-44da-94a4-b191b8370265",
   "metadata": {},
   "outputs": [],
   "source": [
    "model.save('predictionmodel.h5')"
   ]
  },
  {
   "cell_type": "code",
   "execution_count": 16,
   "id": "51588f24-2ad4-45d1-88c9-ba87df52a89e",
   "metadata": {},
   "outputs": [],
   "source": [
    "from tensorflow import keras"
   ]
  },
  {
   "cell_type": "code",
   "execution_count": 19,
   "id": "ff1ec78c-a5a6-4980-9e4c-2ab729ec1b0b",
   "metadata": {},
   "outputs": [],
   "source": [
    "loaded_model = keras.models.load_model('predictionmodel.h5')"
   ]
  },
  {
   "cell_type": "code",
   "execution_count": 20,
   "id": "9057791b-9032-4d76-8d27-3a3311a9ef6d",
   "metadata": {},
   "outputs": [
    {
     "name": "stdout",
     "output_type": "stream",
     "text": [
      "Model: \"sequential\"\n",
      "_________________________________________________________________\n",
      " Layer (type)                Output Shape              Param #   \n",
      "=================================================================\n",
      " conv2d (Conv2D)             (None, 60, 60, 128)       3328      \n",
      "                                                                 \n",
      " max_pooling2d (MaxPooling2D  (None, 30, 30, 128)      0         \n",
      " )                                                               \n",
      "                                                                 \n",
      " conv2d_1 (Conv2D)           (None, 28, 28, 256)       295168    \n",
      "                                                                 \n",
      " max_pooling2d_1 (MaxPooling  (None, 14, 14, 256)      0         \n",
      " 2D)                                                             \n",
      "                                                                 \n",
      " conv2d_2 (Conv2D)           (None, 12, 12, 256)       590080    \n",
      "                                                                 \n",
      " max_pooling2d_2 (MaxPooling  (None, 6, 6, 256)        0         \n",
      " 2D)                                                             \n",
      "                                                                 \n",
      " flatten (Flatten)           (None, 9216)              0         \n",
      "                                                                 \n",
      " dense (Dense)               (None, 512)               4719104   \n",
      "                                                                 \n",
      " dense_1 (Dense)             (None, 38)                19494     \n",
      "                                                                 \n",
      "=================================================================\n",
      "Total params: 5,627,174\n",
      "Trainable params: 5,627,174\n",
      "Non-trainable params: 0\n",
      "_________________________________________________________________\n"
     ]
    }
   ],
   "source": [
    "loaded_model.summary()"
   ]
  },
  {
   "cell_type": "code",
   "execution_count": null,
   "id": "2d7aa4dd-1c22-46be-a5f8-21df9b5309d1",
   "metadata": {},
   "outputs": [],
   "source": []
  }
 ],
 "metadata": {
  "kernelspec": {
   "display_name": "Python 3 (ipykernel)",
   "language": "python",
   "name": "python3"
  },
  "language_info": {
   "codemirror_mode": {
    "name": "ipython",
    "version": 3
   },
   "file_extension": ".py",
   "mimetype": "text/x-python",
   "name": "python",
   "nbconvert_exporter": "python",
   "pygments_lexer": "ipython3",
   "version": "3.9.13"
  },
  "widgets": {
   "application/vnd.jupyter.widget-state+json": {
    "state": {},
    "version_major": 2,
    "version_minor": 0
   }
  }
 },
 "nbformat": 4,
 "nbformat_minor": 5
}
